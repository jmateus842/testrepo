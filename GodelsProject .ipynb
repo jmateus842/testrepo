{
  "metadata": {
    "language_info": {
      "codemirror_mode": {
        "name": "python",
        "version": 3
      },
      "file_extension": ".py",
      "mimetype": "text/x-python",
      "name": "python",
      "nbconvert_exporter": "python",
      "pygments_lexer": "ipython3",
      "version": "3.8"
    },
    "kernelspec": {
      "name": "python",
      "display_name": "Python (Pyodide)",
      "language": "python"
    }
  },
  "nbformat_minor": 4,
  "nbformat": 4,
  "cells": [
    {
      "cell_type": "markdown",
      "source": "# My Jupyter Notebook on IBM Watson Studio",
      "metadata": {}
    },
    {
      "cell_type": "markdown",
      "source": "**My name is Juan Mateus and I want to be a programmer I just don't know which type yet**",
      "metadata": {}
    },
    {
      "cell_type": "markdown",
      "source": "*I am interested in data science because with our current amount of available data it can give us unseen insights on many topics of interest*",
      "metadata": {}
    },
    {
      "cell_type": "markdown",
      "source": "### My next cell introduce Godel's Incompleteness Theorem",
      "metadata": {}
    },
    {
      "cell_type": "code",
      "source": "print(\"What is Godel's Incompleteness Theorem?\")",
      "metadata": {
        "trusted": true
      },
      "execution_count": 5,
      "outputs": [
        {
          "name": "stdout",
          "text": "What is Godel's Incompleteness Theorem?\n",
          "output_type": "stream"
        }
      ]
    },
    {
      "cell_type": "markdown",
      "source": "*  Gödel's incompleteness theorems are two theorems of mathematical logic that are concerned with the limits of provability in formal axiomatic theories. \n<div class=\"alert alert-block alert-info\">\n<b>Quote:</b> <div class=\"alert alert-block alert-info\">\n<b>Tip:</b> “Any consistent formal system F within which a certain amount of elementary arithmetic can be carried out is incomplete; i.e., there are statements of the language of F which can neither be proved nor disproved in F.”\n</div>\n</div>\n\n__[Wikipedia](https://en.wikipedia.org/wiki/G%C3%B6del%27s_incompleteness_theorems)__\n",
      "metadata": {}
    }
  ]
}